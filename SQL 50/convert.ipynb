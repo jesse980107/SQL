{
 "cells": [
  {
   "cell_type": "code",
   "execution_count": 1,
   "metadata": {},
   "outputs": [
    {
     "name": "stdout",
     "output_type": "stream",
     "text": [
      "1211_Queries_Quality_and_Percentage.md\n"
     ]
    }
   ],
   "source": [
    "import re\n",
    "\n",
    "def format_string(input_string):\n",
    "    # Use a regular expression to replace spaces, periods, or sequences of both with a single underscore\n",
    "    formatted_string = re.sub(r'[ .]+', '_', input_string)\n",
    "    return formatted_string\n",
    "\n",
    "# Example usage\n",
    "input_str = \"1211. Queries Quality and Percentage\"\n",
    "output_str = format_string(input_str)+\".md\"\n",
    "print(output_str)"
   ]
  },
  {
   "cell_type": "code",
   "execution_count": 33,
   "metadata": {},
   "outputs": [
    {
     "name": "stdout",
     "output_type": "stream",
     "text": [
      "| # | Title | Solution | Difficulty |\n",
      "|---| ----- | -------- | ---------- |\n",
      "|176|[Second Highest Salary]()| [MySQL](./SQL%2050/176%23.sql)|Easy|\n",
      "|180|[Consecutive Numbers]()| [MySQL](./SQL%2050/180%23.sql)|Easy|\n",
      "|185|[Department Top Three Salaries]()| [MySQL](./SQL%2050/185%23.sql)|Easy|\n",
      "|196|[Delete Duplicate Email]()| [MySQL](./SQL%2050/196%23.sql)|Easy|\n",
      "|197|[Rising Temperature]()| [MySQL](./SQL%2050/197%23.sql)|Easy|\n",
      "|550|[Game play Analysis IV]()| [MySQL](./SQL%2050/550%23.sql)|Easy|\n",
      "|570|[Managers with at Least 5 Direct Reports]()| [MySQL](./SQL%2050/570%23.sql)|Easy|\n",
      "|577|[Employee Bonus]()| [MySQL](./SQL%2050/577%23.sql)|Easy|\n",
      "|584|[Find Customer Referee]()| [MySQL](./SQL%2050/584%23.sql)|Easy|\n",
      "|585|[Investments in 2016]()| [MySQL](./SQL%2050/585%23.sql)|Easy|\n",
      "|595|[Big Countries]()| [MySQL](./SQL%2050/595%23.sql)|Easy|\n",
      "|596|[Classes More Than 5 Students]()| [MySQL](./SQL%2050/596%23.sql)|Easy|\n",
      "|602|[Friend Requests II]()| [MySQL](./SQL%2050/602%23.sql)|Easy|\n",
      "|610|[Triangle Judgement]()| [MySQL](./SQL%2050/610%23.sql)|Easy|\n",
      "|619|[Biggest Single Number]()| [MySQL](./SQL%2050/619%23.sql)|Easy|\n",
      "|620|[Not Boring Movies]()| [MySQL](./SQL%2050/620%23.sql)|Easy|\n",
      "|626|[Exchange Seats]()| [MySQL](./SQL%2050/626%23.sql)|Easy|\n",
      "|1045|[Customers Who Bought All Products]()| [MySQL](./SQL%2050/1045%23.sql)|Easy|\n",
      "|1068|[Product Sales Analysis I]()| [MySQL](./SQL%2050/1068%23.sql)|Easy|\n",
      "|1070|[Product Sales Analysis III]()| [MySQL](./SQL%2050/1070%23.sql)|Easy|\n",
      "|1075|[Project Employees I]()| [MySQL](./SQL%2050/1075%23.sql)|Easy|\n",
      "|1141|[User Activity for the Past 30 Days I]()| [MySQL](./SQL%2050/1141%23.sql)|Easy|\n",
      "|1148|[Article Views I]()| [MySQL](./SQL%2050/1148%23.sql)|Easy|\n",
      "|1164|[Product Price at a Given Date]()| [MySQL](./SQL%2050/1164%23.sql)|Easy|\n",
      "|1174|[Immediate Food Delivery II]()| [MySQL](./SQL%2050/1174%23.sql)|Easy|\n",
      "|1193|[Monthly Transactions I]()| [MySQL](./SQL%2050/1193%23.sql)|Easy|\n",
      "|1204|[Last Person to Fit in the Bus]()| [MySQL](./SQL%2050/1204%23.sql)|Easy|\n",
      "|1211|[Queries Quality and Percentage]()| [MySQL](./SQL%2050/1211%23.sql)|Easy|\n",
      "|1251|[Average Selling Price]()| [MySQL](./SQL%2050/1251%23.sql)|Easy|\n",
      "|1280|[Students and Examinations]()| [MySQL](./SQL%2050/1280%23.sql)|Easy|\n",
      "|1321|[Restaurant Growth]()| [MySQL](./SQL%2050/1321%23.sql)|Easy|\n",
      "|1327|[List the Products Ordered in a Period]()| [MySQL](./SQL%2050/1327%23.sql)|Easy|\n",
      "|1341|[Movie Rating]()| [MySQL](./SQL%2050/1341%23.sql)|Easy|\n",
      "|1378|[Replace Employee ID With The Unique Identifier]()| [MySQL](./SQL%2050/1378%23.sql)|Easy|\n",
      "|1484|[Group Sold Products By The Date]()| [MySQL](./SQL%2050/1484%23.sql)|Easy|\n",
      "|1517|[Find Users With Valid Emails]()| [MySQL](./SQL%2050/1517%23.sql)|Easy|\n",
      "|1527|[Patients With a Condition]()| [MySQL](./SQL%2050/1527%23.sql)|Easy|\n",
      "|1581|[Customer Who Visited but Did Not Make Any Transactions]()| [MySQL](./SQL%2050/1581%23.sql)|Easy|\n",
      "|1633|[Percentage of Users Attended a Contest]()| [MySQL](./SQL%2050/1633%23.sql)|Easy|\n",
      "|1661|[Average Time of Process per Machine]()| [MySQL](./SQL%2050/1661%23.sql)|Easy|\n",
      "|1667|[Fix Names in a Table]()| [MySQL](./SQL%2050/1667%23.sql)|Easy|\n",
      "|1683|[Invalid Tweets]()| [MySQL](./SQL%2050/1683%23.sql)|Easy|\n",
      "|1729|[Find Followers Count]()| [MySQL](./SQL%2050/1729%23.sql)|Easy|\n",
      "|1731|[The Number of Employees Which Report to Each Employee]()| [MySQL](./SQL%2050/1731%23.sql)|Easy|\n",
      "|1757|[Recyclable and Low Fat Products]()| [MySQL](./SQL%2050/1757%23.sql)|Easy|\n",
      "|1789|[Primary Department for Each Employee]()| [MySQL](./SQL%2050/1789%23.sql)|Easy|\n",
      "|1907|[Count Salary Categories]()| [MySQL](./SQL%2050/1907%23.sql)|Easy|\n",
      "|1934|[Confirmation Rate]()| [MySQL](./SQL%2050/1934%23.sql)|Easy|\n",
      "|1978|[Employees Whose Manager Left the Company]()| [MySQL](./SQL%2050/1978%23.sql)|Easy|\n",
      "|2356|[Number of Unique Subjects Taught by Each Teacher]()| [MySQL](./SQL%2050/2356%23.sql)|Easy|\n",
      "\n"
     ]
    }
   ],
   "source": [
    "import os\n",
    "\n",
    "def generate_markdown_table(folder_path):\n",
    "    # Define the headers for the Markdown table\n",
    "    headers = \"| # | Title | Solution | Difficulty |\\n|---| ----- | -------- | ---------- |\\n\"\n",
    "    entries = []  # List to hold all table entries for sorting\n",
    "    \n",
    "    # Iterate over all files in the specified directory\n",
    "    for filename in os.listdir(folder_path):\n",
    "        if filename.endswith(\".md\"):  # Filter for SQL files\n",
    "            # Extract the number prefix from the filename\n",
    "            number_prefix = filename.split('_', 1)[0]\n",
    "            # Extract the base name without the extension for the title\n",
    "            base_name = os.path.splitext(filename)[0]\n",
    "            # Remove the number prefix from the title and replace underscores with spaces\n",
    "            title_part = base_name[len(number_prefix)+1:].replace('_', ' ').replace('-', ' ')\n",
    "\n",
    "            # URL encode the filename for the link\n",
    "            encoded_filename = filename.replace(' ', '%20').replace('#', '%23')\n",
    "            github_path = f\"./SQL%2050/{number_prefix}%23.sql\"\n",
    "\n",
    "            # Create a Markdown line entry\n",
    "            markdown_line = f\"|{number_prefix}|[{title_part}]()| [MySQL]({github_path})|Easy|\"\n",
    "            # Append each line entry to the list with the number prefix as an integer for sorting\n",
    "            entries.append((int(number_prefix), markdown_line))\n",
    "    \n",
    "    # Sort the list of entries based on the number prefix (first item in tuple)\n",
    "    entries.sort()\n",
    "\n",
    "    # Start with the headers and add each sorted entry to the final Markdown content\n",
    "    markdown_content = headers\n",
    "    for _, entry in entries:\n",
    "        markdown_content += entry + '\\n'  # Add a newline after each entry\n",
    "    \n",
    "    return markdown_content\n",
    "\n",
    "# Specify the folder path, ensure to use raw strings for paths in Windows\n",
    "folder_path = r'C:\\Users\\Administrator\\Desktop\\SQL\\SQL 50'\n",
    "markdown_table = generate_markdown_table(folder_path)\n",
    "print(markdown_table)"
   ]
  },
  {
   "cell_type": "code",
   "execution_count": null,
   "metadata": {},
   "outputs": [],
   "source": []
  }
 ],
 "metadata": {
  "kernelspec": {
   "display_name": "Python 3",
   "language": "python",
   "name": "python3"
  },
  "language_info": {
   "codemirror_mode": {
    "name": "ipython",
    "version": 3
   },
   "file_extension": ".py",
   "mimetype": "text/x-python",
   "name": "python",
   "nbconvert_exporter": "python",
   "pygments_lexer": "ipython3",
   "version": "3.11.0"
  }
 },
 "nbformat": 4,
 "nbformat_minor": 2
}
