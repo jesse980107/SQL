{
 "cells": [
  {
   "cell_type": "code",
   "execution_count": 2,
   "metadata": {},
   "outputs": [
    {
     "name": "stdout",
     "output_type": "stream",
     "text": [
      "1068_Product_Sales_Analysis_I.md\n"
     ]
    }
   ],
   "source": [
    "import re\n",
    "\n",
    "def format_string(input_string):\n",
    "    # Use a regular expression to replace spaces, periods, or sequences of both with a single underscore\n",
    "    formatted_string = re.sub(r'[ .]+', '_', input_string)\n",
    "    return formatted_string\n",
    "\n",
    "# Example usage\n",
    "input_str = \"1068. Product Sales Analysis I\"\n",
    "output_str = format_string(input_str)+\".md\"\n",
    "print(output_str)"
   ]
  },
  {
   "cell_type": "code",
   "execution_count": null,
   "metadata": {},
   "outputs": [],
   "source": []
  }
 ],
 "metadata": {
  "kernelspec": {
   "display_name": "Python 3",
   "language": "python",
   "name": "python3"
  },
  "language_info": {
   "codemirror_mode": {
    "name": "ipython",
    "version": 3
   },
   "file_extension": ".py",
   "mimetype": "text/x-python",
   "name": "python",
   "nbconvert_exporter": "python",
   "pygments_lexer": "ipython3",
   "version": "3.11.0"
  }
 },
 "nbformat": 4,
 "nbformat_minor": 2
}
